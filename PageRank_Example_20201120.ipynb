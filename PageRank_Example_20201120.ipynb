{
 "cells": [
  {
   "cell_type": "markdown",
   "metadata": {},
   "source": [
    "# Example 1\n",
    "\n",
    "### Ignore damping factor"
   ]
  },
  {
   "cell_type": "code",
   "execution_count": 1,
   "metadata": {},
   "outputs": [],
   "source": [
    "import numpy as np\n",
    "\n",
    "def simple_pagerank(M, num_iterations: int = 100, d: float = 0.85):\n",
    "    \"\"\"\n",
    "\n",
    "    Parameters\n",
    "    ----------\n",
    "    M : numpy array\n",
    "        the probability from certain page to other page through outbound links   \n",
    "    num_iterations : int, optional\n",
    "        number of iteration, by default 100\n",
    "    d : float, optional\n",
    "        damping factor, by default 0.85\n",
    "\n",
    "    Returns\n",
    "    -------\n",
    "    numpy array\n",
    "        a vector of scores such that v_i is the i-th scores from [0, 1],\n",
    "        v sums to 1\n",
    "    Final PageScores\n",
    "    Final number of iteration\n",
    "    \n",
    "    \"\"\"\n",
    "    v= np.array([[1/4],[1/4], [1/4], [1/4]])  # assign the initial score of each page equally\n",
    "    b=[]\n",
    "    for i in range(num_iterations): \n",
    "            b = v.copy()\n",
    "            v = M @ v ## igonore the damping factor\n",
    "            if (b==v).all():\n",
    "                break\n",
    "            else:\n",
    "                continue\n",
    "        \n",
    "    return print('Final Array:',v\n",
    "                 ,'\\n'\n",
    "                 ,'Final PageScore: w-{},x-{},y-{},z-{}'.format(round(v[0][0],5),round(v[1][0],5),round(v[2][0],5),round(v[3][0],5))\n",
    "                 ,'\\n'\n",
    "                 ,'The final number of interation:',i)\n"
   ]
  },
  {
   "cell_type": "code",
   "execution_count": 2,
   "metadata": {},
   "outputs": [
    {
     "name": "stdout",
     "output_type": "stream",
     "text": [
      "Final Array: [[0.12903226]\n",
      " [0.19354839]\n",
      " [0.29032258]\n",
      " [0.38709677]] \n",
      " Final PageScore: w-0.12903,x-0.19355,y-0.29032,z-0.3871 \n",
      " The final number of interation: 61\n"
     ]
    }
   ],
   "source": [
    "M = np.array([[0, 0, 0, 1/3],\n",
    "              [1/2, 0, 0, 1/3],\n",
    "              [1/2, 1/2, 0, 1/3],\n",
    "              [0, 1/2, 1, 0]])\n",
    "\n",
    "simple_pagerank(M, 100, 0.85)"
   ]
  },
  {
   "cell_type": "markdown",
   "metadata": {},
   "source": [
    "# Example 2\n",
    "\n",
    "### Add the damping factor"
   ]
  },
  {
   "cell_type": "code",
   "execution_count": 3,
   "metadata": {},
   "outputs": [],
   "source": [
    "\n",
    "def pagerank(M, num_iterations: int = 100, d: float = 0.85):\n",
    "    \"\"\"\n",
    "\n",
    "    Parameters\n",
    "    ----------\n",
    "    M : numpy array\n",
    "        the probability from certain page to other page through outbound links   \n",
    "    num_iterations : int, optional\n",
    "        number of iteration, by default 100\n",
    "    d : float, optional\n",
    "        damping factor, by default 0.85\n",
    "\n",
    "    Returns\n",
    "    -------\n",
    "    numpy array\n",
    "        a vector of scores such that v_i is the i-th scores from [0, 1],\n",
    "        v sums to 1\n",
    "    Final PageScores\n",
    "    Final number of iteration\n",
    "    \n",
    "    \"\"\"\n",
    "    N = M.shape[1]   ## the total number of pages\n",
    "    v = np.random.rand(N, 1)  # assign the initial score of each page randomly\n",
    "    v = v / np.linalg.norm(v, 1) # let the array sum to 1\n",
    "    M_hat = (d * M + (1 - d) / N)\n",
    "\n",
    "    for i in range(num_iterations): \n",
    "            b = v.copy()\n",
    "            v = M_hat @ v\n",
    "            if (b==v).all():\n",
    "                break\n",
    "            else:\n",
    "                continue\n",
    "        \n",
    "    return print('Final Array:',v\n",
    "                 ,'\\n'\n",
    "                 ,'Final PageScore: w-{},x-{},y-{},z-{}'.format(round(v[0][0],5),round(v[1][0],5),round(v[2][0],5),round(v[3][0],5))\n",
    "                 ,'\\n'\n",
    "                 ,'The final number of interation:',i)"
   ]
  },
  {
   "cell_type": "code",
   "execution_count": 4,
   "metadata": {},
   "outputs": [
    {
     "name": "stdout",
     "output_type": "stream",
     "text": [
      "Final Array: [[0.14180936]\n",
      " [0.20207834]\n",
      " [0.28796163]\n",
      " [0.36815068]] \n",
      " Final PageScore: w-0.14181,x-0.20208,y-0.28796,z-0.36815 \n",
      " The final number of interation: 49\n"
     ]
    }
   ],
   "source": [
    "M = np.array([[0, 0, 0, 1/3],\n",
    "              [1/2, 0, 0, 1/3],\n",
    "              [1/2, 1/2, 0, 1/3],\n",
    "              [0, 1/2, 1, 0]])\n",
    "pagerank(M, 100, 0.85)"
   ]
  },
  {
   "cell_type": "code",
   "execution_count": null,
   "metadata": {},
   "outputs": [],
   "source": []
  }
 ],
 "metadata": {
  "kernelspec": {
   "display_name": "Python 3",
   "language": "python",
   "name": "python3"
  },
  "language_info": {
   "codemirror_mode": {
    "name": "ipython",
    "version": 3
   },
   "file_extension": ".py",
   "mimetype": "text/x-python",
   "name": "python",
   "nbconvert_exporter": "python",
   "pygments_lexer": "ipython3",
   "version": "3.7.3"
  }
 },
 "nbformat": 4,
 "nbformat_minor": 4
}
